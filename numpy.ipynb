{
  "nbformat": 4,
  "nbformat_minor": 0,
  "metadata": {
    "colab": {
      "provenance": []
    },
    "kernelspec": {
      "name": "python3",
      "display_name": "Python 3"
    },
    "language_info": {
      "name": "python"
    }
  },
  "cells": [
    {
      "cell_type": "code",
      "execution_count": 1,
      "metadata": {
        "id": "DKj1mZ3YXJJG"
      },
      "outputs": [],
      "source": [
        "import numpy as np"
      ]
    },
    {
      "cell_type": "markdown",
      "source": [
        "basics"
      ],
      "metadata": {
        "id": "wYhDMZ5iXWVI"
      }
    },
    {
      "cell_type": "code",
      "source": [
        "np1 = np.array([0,1,2,3,4,5])\n",
        "print(np1)"
      ],
      "metadata": {
        "colab": {
          "base_uri": "https://localhost:8080/"
        },
        "id": "DotbePdaXXZl",
        "outputId": "5935bab9-0e8c-4dfc-deeb-555870051c2b"
      },
      "execution_count": null,
      "outputs": [
        {
          "output_type": "stream",
          "name": "stdout",
          "text": [
            "[0 1 2 3 4 5]\n"
          ]
        }
      ]
    },
    {
      "cell_type": "code",
      "source": [
        "print(np1.shape)"
      ],
      "metadata": {
        "colab": {
          "base_uri": "https://localhost:8080/"
        },
        "id": "85gGyQ3hXchb",
        "outputId": "872fc407-d2b5-4492-cb95-d7b068ce4d85"
      },
      "execution_count": null,
      "outputs": [
        {
          "output_type": "stream",
          "name": "stdout",
          "text": [
            "(6,)\n"
          ]
        }
      ]
    },
    {
      "cell_type": "code",
      "source": [
        "np2 = np.arange(10)\n",
        "print(np2)"
      ],
      "metadata": {
        "colab": {
          "base_uri": "https://localhost:8080/"
        },
        "id": "VrBHQg0hXhA1",
        "outputId": "c1870d2c-5083-47aa-8af1-c2905a541090"
      },
      "execution_count": null,
      "outputs": [
        {
          "output_type": "stream",
          "name": "stdout",
          "text": [
            "[0 1 2 3 4 5 6 7 8 9]\n"
          ]
        }
      ]
    },
    {
      "cell_type": "code",
      "source": [
        "np3 = np.arange(1,10,2)\n",
        "print(np3)"
      ],
      "metadata": {
        "colab": {
          "base_uri": "https://localhost:8080/"
        },
        "id": "hLh6oThnXx5e",
        "outputId": "4a2646b6-cdd9-4a8d-e13c-ed8ce214e34a"
      },
      "execution_count": null,
      "outputs": [
        {
          "output_type": "stream",
          "name": "stdout",
          "text": [
            "[1 3 5 7 9]\n"
          ]
        }
      ]
    },
    {
      "cell_type": "code",
      "source": [
        "np4 = np.zeros(10)\n",
        "print(np4)"
      ],
      "metadata": {
        "colab": {
          "base_uri": "https://localhost:8080/"
        },
        "id": "a8ZzgL-wX4ny",
        "outputId": "bb7d7a48-253e-468b-95eb-e20a95540b1b"
      },
      "execution_count": null,
      "outputs": [
        {
          "output_type": "stream",
          "name": "stdout",
          "text": [
            "[0. 0. 0. 0. 0. 0. 0. 0. 0. 0.]\n"
          ]
        }
      ]
    },
    {
      "cell_type": "code",
      "source": [
        "np5 = np.zeros((2,10))\n",
        "print(np5)"
      ],
      "metadata": {
        "colab": {
          "base_uri": "https://localhost:8080/"
        },
        "id": "MFdQdtb0YEsN",
        "outputId": "fc36a99a-f3af-4ab8-8cbc-61f5979ef01c"
      },
      "execution_count": null,
      "outputs": [
        {
          "output_type": "stream",
          "name": "stdout",
          "text": [
            "[[0. 0. 0. 0. 0. 0. 0. 0. 0. 0.]\n",
            " [0. 0. 0. 0. 0. 0. 0. 0. 0. 0.]]\n"
          ]
        }
      ]
    },
    {
      "cell_type": "code",
      "source": [
        "np6 = np.full((10),6)\n",
        "print(np6)"
      ],
      "metadata": {
        "colab": {
          "base_uri": "https://localhost:8080/"
        },
        "id": "3JhWeWkvYKQd",
        "outputId": "4ce4584e-b8fb-428d-a406-57be05ea3202"
      },
      "execution_count": null,
      "outputs": [
        {
          "output_type": "stream",
          "name": "stdout",
          "text": [
            "[6 6 6 6 6 6 6 6 6 6]\n"
          ]
        }
      ]
    },
    {
      "cell_type": "code",
      "source": [
        "np7 = np.full((2,10),6)\n",
        "print(np7)"
      ],
      "metadata": {
        "colab": {
          "base_uri": "https://localhost:8080/"
        },
        "id": "tFY9RQ0_YPyY",
        "outputId": "efa480e9-e85f-4c45-f426-67696dfe4201"
      },
      "execution_count": null,
      "outputs": [
        {
          "output_type": "stream",
          "name": "stdout",
          "text": [
            "[[6 6 6 6 6 6 6 6 6 6]\n",
            " [6 6 6 6 6 6 6 6 6 6]]\n"
          ]
        }
      ]
    },
    {
      "cell_type": "code",
      "source": [
        "my_list = [2,5,7,9,0]\n",
        "np8 = np.array(my_list)\n",
        "print(np8)"
      ],
      "metadata": {
        "colab": {
          "base_uri": "https://localhost:8080/"
        },
        "id": "jllw2JeGYVFB",
        "outputId": "9cacce1a-34d2-482b-e357-f5b748a89532"
      },
      "execution_count": null,
      "outputs": [
        {
          "output_type": "stream",
          "name": "stdout",
          "text": [
            "[2 5 7 9 0]\n"
          ]
        }
      ]
    },
    {
      "cell_type": "code",
      "source": [
        "ele = np8[0]\n",
        "print(ele)"
      ],
      "metadata": {
        "colab": {
          "base_uri": "https://localhost:8080/"
        },
        "id": "bU7hOW7zYh3B",
        "outputId": "29bf1e57-eb37-44d7-a0d0-65d87e914bb5"
      },
      "execution_count": null,
      "outputs": [
        {
          "output_type": "stream",
          "name": "stdout",
          "text": [
            "2\n"
          ]
        }
      ]
    },
    {
      "cell_type": "markdown",
      "source": [
        "Slicing"
      ],
      "metadata": {
        "id": "Uc6tlR8kYoZm"
      }
    },
    {
      "cell_type": "code",
      "source": [
        "npp = np.array([1,2,3,4,5,6,7,8,9])"
      ],
      "metadata": {
        "id": "QOt7lUZ5Ypju"
      },
      "execution_count": null,
      "outputs": []
    },
    {
      "cell_type": "code",
      "source": [
        "print(npp[1:3])"
      ],
      "metadata": {
        "colab": {
          "base_uri": "https://localhost:8080/"
        },
        "id": "NoR_6wP7-_aS",
        "outputId": "34003e4c-61d4-47b0-fa58-38549b2da826"
      },
      "execution_count": null,
      "outputs": [
        {
          "output_type": "stream",
          "name": "stdout",
          "text": [
            "[2 3]\n"
          ]
        }
      ]
    },
    {
      "cell_type": "code",
      "source": [
        "print(npp[2:])"
      ],
      "metadata": {
        "colab": {
          "base_uri": "https://localhost:8080/"
        },
        "id": "K2BkAjxc_F7Z",
        "outputId": "368efc7b-3eb1-4355-e865-be24c70b44b1"
      },
      "execution_count": null,
      "outputs": [
        {
          "output_type": "stream",
          "name": "stdout",
          "text": [
            "[3 4 5 6 7 8 9]\n"
          ]
        }
      ]
    },
    {
      "cell_type": "code",
      "source": [
        "print(npp[:])"
      ],
      "metadata": {
        "colab": {
          "base_uri": "https://localhost:8080/"
        },
        "id": "j4vKc60w_ItJ",
        "outputId": "0487115e-51da-4a37-b817-250152f25eab"
      },
      "execution_count": null,
      "outputs": [
        {
          "output_type": "stream",
          "name": "stdout",
          "text": [
            "[1 2 3 4 5 6 7 8 9]\n"
          ]
        }
      ]
    },
    {
      "cell_type": "code",
      "source": [
        "print(npp[-3:-1])"
      ],
      "metadata": {
        "colab": {
          "base_uri": "https://localhost:8080/"
        },
        "id": "rS2-V3Yj_LW5",
        "outputId": "0be1d7a4-95c7-49ed-8496-48a8fcdac78a"
      },
      "execution_count": null,
      "outputs": [
        {
          "output_type": "stream",
          "name": "stdout",
          "text": [
            "[7 8]\n"
          ]
        }
      ]
    },
    {
      "cell_type": "code",
      "source": [
        "print(npp[1:5:2])"
      ],
      "metadata": {
        "colab": {
          "base_uri": "https://localhost:8080/"
        },
        "id": "8YjUIQ-j_N9K",
        "outputId": "9b777aee-43b3-46da-fe1c-8add49d616f1"
      },
      "execution_count": null,
      "outputs": [
        {
          "output_type": "stream",
          "name": "stdout",
          "text": [
            "[2 4]\n"
          ]
        }
      ]
    },
    {
      "cell_type": "code",
      "source": [
        "print(npp[::2])"
      ],
      "metadata": {
        "colab": {
          "base_uri": "https://localhost:8080/"
        },
        "id": "SQu1JY1W_Q2B",
        "outputId": "609caef3-daa1-499b-899c-f1236c6e241e"
      },
      "execution_count": null,
      "outputs": [
        {
          "output_type": "stream",
          "name": "stdout",
          "text": [
            "[1 3 5 7 9]\n"
          ]
        }
      ]
    },
    {
      "cell_type": "code",
      "source": [
        "npp2 = np.array([[1,2,3,4,5],[6,7,8,9,10]])"
      ],
      "metadata": {
        "id": "CYNL-zKm_URp"
      },
      "execution_count": null,
      "outputs": []
    },
    {
      "cell_type": "code",
      "source": [
        "print(npp2[1,2])"
      ],
      "metadata": {
        "colab": {
          "base_uri": "https://localhost:8080/"
        },
        "id": "PBq4BhOL_Yg5",
        "outputId": "678b465f-f766-460d-ac9c-f3bc7fc063a8"
      },
      "execution_count": null,
      "outputs": [
        {
          "output_type": "stream",
          "name": "stdout",
          "text": [
            "8\n"
          ]
        }
      ]
    },
    {
      "cell_type": "code",
      "source": [
        "print(npp2[0:1,1:3])"
      ],
      "metadata": {
        "colab": {
          "base_uri": "https://localhost:8080/"
        },
        "id": "I-fcwvq5_d8J",
        "outputId": "3cd1a372-6052-4f68-801a-51d8263c78d3"
      },
      "execution_count": null,
      "outputs": [
        {
          "output_type": "stream",
          "name": "stdout",
          "text": [
            "[[2 3]]\n"
          ]
        }
      ]
    },
    {
      "cell_type": "code",
      "source": [
        "print(npp2[0:2,1:3])"
      ],
      "metadata": {
        "colab": {
          "base_uri": "https://localhost:8080/"
        },
        "id": "4vsM-C52_iAZ",
        "outputId": "9a1c918d-17d0-4ccf-a124-3325153d74ab"
      },
      "execution_count": null,
      "outputs": [
        {
          "output_type": "stream",
          "name": "stdout",
          "text": [
            "[[2 3]\n",
            " [7 8]]\n"
          ]
        }
      ]
    },
    {
      "cell_type": "markdown",
      "source": [
        "Numpy Universal Function"
      ],
      "metadata": {
        "id": "_aWqzBZL_meJ"
      }
    },
    {
      "cell_type": "code",
      "source": [
        "npp3 = np.array([1,2,3,4,5])"
      ],
      "metadata": {
        "id": "Or2Dett1_pzw"
      },
      "execution_count": null,
      "outputs": []
    },
    {
      "cell_type": "code",
      "source": [
        "print(np.sum(npp3))"
      ],
      "metadata": {
        "colab": {
          "base_uri": "https://localhost:8080/"
        },
        "id": "g6XQtdID5epV",
        "outputId": "f1b626b3-77c1-4ce1-af12-34f6793c295f"
      },
      "execution_count": null,
      "outputs": [
        {
          "output_type": "stream",
          "name": "stdout",
          "text": [
            "15\n"
          ]
        }
      ]
    },
    {
      "cell_type": "code",
      "source": [
        "print(np.sqrt(npp3))"
      ],
      "metadata": {
        "colab": {
          "base_uri": "https://localhost:8080/"
        },
        "id": "TUjc27E85iFD",
        "outputId": "6913c56a-aa76-4f7a-837d-b6c176547eac"
      },
      "execution_count": null,
      "outputs": [
        {
          "output_type": "stream",
          "name": "stdout",
          "text": [
            "[1.         1.41421356 1.73205081 2.         2.23606798]\n"
          ]
        }
      ]
    },
    {
      "cell_type": "code",
      "source": [
        "print(np.absolute(npp3))"
      ],
      "metadata": {
        "colab": {
          "base_uri": "https://localhost:8080/"
        },
        "id": "aZt2lf_m5nIj",
        "outputId": "95dd10fe-da75-4806-bf78-36d9796a2727"
      },
      "execution_count": null,
      "outputs": [
        {
          "output_type": "stream",
          "name": "stdout",
          "text": [
            "[1 2 3 4 5]\n"
          ]
        }
      ]
    },
    {
      "cell_type": "code",
      "source": [
        "print(np.exp(npp3))"
      ],
      "metadata": {
        "colab": {
          "base_uri": "https://localhost:8080/"
        },
        "id": "Y3ErAiun5r9L",
        "outputId": "63709081-767d-4d47-8d2b-e03571a0b2d1"
      },
      "execution_count": null,
      "outputs": [
        {
          "output_type": "stream",
          "name": "stdout",
          "text": [
            "[  2.71828183   7.3890561   20.08553692  54.59815003 148.4131591 ]\n"
          ]
        }
      ]
    },
    {
      "cell_type": "code",
      "source": [
        "print(np.max(npp3))\n",
        "print(np.min(npp3))"
      ],
      "metadata": {
        "colab": {
          "base_uri": "https://localhost:8080/"
        },
        "id": "oVVTmsqF5v06",
        "outputId": "977c47f5-73c6-4568-f42f-02425a5bf2e7"
      },
      "execution_count": null,
      "outputs": [
        {
          "output_type": "stream",
          "name": "stdout",
          "text": [
            "5\n",
            "1\n"
          ]
        }
      ]
    },
    {
      "cell_type": "code",
      "source": [
        "print(np.sign(npp3))"
      ],
      "metadata": {
        "colab": {
          "base_uri": "https://localhost:8080/"
        },
        "id": "SMI-tEk2507P",
        "outputId": "44343ec2-659d-4d70-b94b-e0cc910e1463"
      },
      "execution_count": null,
      "outputs": [
        {
          "output_type": "stream",
          "name": "stdout",
          "text": [
            "[1 1 1 1 1]\n"
          ]
        }
      ]
    },
    {
      "cell_type": "code",
      "source": [
        "print(np.sin(npp3))"
      ],
      "metadata": {
        "colab": {
          "base_uri": "https://localhost:8080/"
        },
        "id": "jQ_R9xCw54A7",
        "outputId": "a5b8fc25-5bcc-43e1-fd17-e1f394a32c5b"
      },
      "execution_count": null,
      "outputs": [
        {
          "output_type": "stream",
          "name": "stdout",
          "text": [
            "[ 0.84147098  0.90929743  0.14112001 -0.7568025  -0.95892427]\n"
          ]
        }
      ]
    },
    {
      "cell_type": "code",
      "source": [
        "print(np.log(npp3))"
      ],
      "metadata": {
        "colab": {
          "base_uri": "https://localhost:8080/"
        },
        "id": "j9EQB6I657hY",
        "outputId": "0aff2897-46cb-46a7-82c0-8a5c47332dba"
      },
      "execution_count": null,
      "outputs": [
        {
          "output_type": "stream",
          "name": "stdout",
          "text": [
            "[0.         0.69314718 1.09861229 1.38629436 1.60943791]\n"
          ]
        }
      ]
    },
    {
      "cell_type": "markdown",
      "source": [
        "Numpy array copy vs view"
      ],
      "metadata": {
        "id": "XaZJczX25-BN"
      }
    },
    {
      "cell_type": "code",
      "source": [
        "npp4 = np.array([1,2,3,4,5])"
      ],
      "metadata": {
        "id": "h6vbHcv56CMY"
      },
      "execution_count": null,
      "outputs": []
    },
    {
      "cell_type": "markdown",
      "source": [
        "create copy"
      ],
      "metadata": {
        "id": "01lxj5IK67jJ"
      }
    },
    {
      "cell_type": "code",
      "source": [
        "npp5 = npp4.copy()"
      ],
      "metadata": {
        "id": "4AnTfkms68mz"
      },
      "execution_count": null,
      "outputs": []
    },
    {
      "cell_type": "markdown",
      "source": [
        "create view"
      ],
      "metadata": {
        "id": "cqtq0SuX6-tw"
      }
    },
    {
      "cell_type": "code",
      "source": [
        "npp6 = npp4.view()"
      ],
      "metadata": {
        "id": "Jsi3Hjd27AVO"
      },
      "execution_count": null,
      "outputs": []
    },
    {
      "cell_type": "markdown",
      "source": [
        "changing elements"
      ],
      "metadata": {
        "id": "3vcbWhhC7ECU"
      }
    },
    {
      "cell_type": "code",
      "source": [
        "npp4[0]=34"
      ],
      "metadata": {
        "id": "KZtgIX7f7GJh"
      },
      "execution_count": null,
      "outputs": []
    },
    {
      "cell_type": "markdown",
      "source": [
        "analysing the result"
      ],
      "metadata": {
        "id": "avsnHGUB7NTI"
      }
    },
    {
      "cell_type": "code",
      "source": [
        "print(f'original array: {npp4}')\n",
        "print(f'copy array: {npp5}')\n",
        "print(f'view array: {npp6}')"
      ],
      "metadata": {
        "colab": {
          "base_uri": "https://localhost:8080/"
        },
        "id": "fy7BalD67PwW",
        "outputId": "8684e5a3-5ceb-404b-b366-5d581adb61b9"
      },
      "execution_count": null,
      "outputs": [
        {
          "output_type": "stream",
          "name": "stdout",
          "text": [
            "original array: [34  2  3  4  5]\n",
            "copy array: [1 2 3 4 5]\n",
            "view array: [34  2  3  4  5]\n"
          ]
        }
      ]
    },
    {
      "cell_type": "markdown",
      "source": [
        "shape and reshape numpy array"
      ],
      "metadata": {
        "id": "ae1WOo4d7ZL1"
      }
    },
    {
      "cell_type": "code",
      "source": [
        "npp7 = np.array([1,2,3,4,5,6,7,8,9,10,11,12])\n",
        "print(npp7)\n",
        "print(npp7.shape)"
      ],
      "metadata": {
        "colab": {
          "base_uri": "https://localhost:8080/"
        },
        "id": "6mJOOBZj7bqM",
        "outputId": "05e63d34-96ee-4679-979f-c4217d3fb22c"
      },
      "execution_count": null,
      "outputs": [
        {
          "output_type": "stream",
          "name": "stdout",
          "text": [
            "[ 1  2  3  4  5  6  7  8  9 10 11 12]\n",
            "(12,)\n"
          ]
        }
      ]
    },
    {
      "cell_type": "code",
      "source": [
        "npp8 = np.array([[1,2,3,4,5,6],[7,8,9,10,11,12]])\n",
        "print(npp8)\n",
        "print(npp8.shape)"
      ],
      "metadata": {
        "colab": {
          "base_uri": "https://localhost:8080/"
        },
        "id": "oPIE0Dhw9GmF",
        "outputId": "3b4ed61f-180b-4431-a2bf-83ba44838ee5"
      },
      "execution_count": null,
      "outputs": [
        {
          "output_type": "stream",
          "name": "stdout",
          "text": [
            "[[ 1  2  3  4  5  6]\n",
            " [ 7  8  9 10 11 12]]\n",
            "(2, 6)\n"
          ]
        }
      ]
    },
    {
      "cell_type": "markdown",
      "source": [
        "reshape 1-d to 2-d"
      ],
      "metadata": {
        "id": "IatcTfe69bMO"
      }
    },
    {
      "cell_type": "code",
      "source": [
        "npp9 = npp7.reshape(3,4)\n",
        "print(npp9)\n",
        "print(npp9.shape)"
      ],
      "metadata": {
        "colab": {
          "base_uri": "https://localhost:8080/"
        },
        "id": "MlcikV8X9dQC",
        "outputId": "3a128a50-938b-46ab-b792-2361c525d315"
      },
      "execution_count": null,
      "outputs": [
        {
          "output_type": "stream",
          "name": "stdout",
          "text": [
            "[[ 1  2  3  4]\n",
            " [ 5  6  7  8]\n",
            " [ 9 10 11 12]]\n",
            "(3, 4)\n"
          ]
        }
      ]
    },
    {
      "cell_type": "markdown",
      "source": [
        "reshape to 3 - d"
      ],
      "metadata": {
        "id": "zK-2Jbo19nxs"
      }
    },
    {
      "cell_type": "code",
      "source": [
        "npp10 = npp7.reshape(2,3,2)\n",
        "print(npp10)\n",
        "print(npp10.shape)"
      ],
      "metadata": {
        "colab": {
          "base_uri": "https://localhost:8080/"
        },
        "id": "nio5Venl9pUW",
        "outputId": "d5910095-f26f-41a2-f6b2-db7584ff20d3"
      },
      "execution_count": null,
      "outputs": [
        {
          "output_type": "stream",
          "name": "stdout",
          "text": [
            "[[[ 1  2]\n",
            "  [ 3  4]\n",
            "  [ 5  6]]\n",
            "\n",
            " [[ 7  8]\n",
            "  [ 9 10]\n",
            "  [11 12]]]\n",
            "(2, 3, 2)\n"
          ]
        }
      ]
    },
    {
      "cell_type": "markdown",
      "source": [
        "flatten to 1-d"
      ],
      "metadata": {
        "id": "hyiuf-iW9veG"
      }
    },
    {
      "cell_type": "code",
      "source": [
        "npp11 = npp10.reshape(-1)\n",
        "print(npp11)\n",
        "print(npp11[-1])"
      ],
      "metadata": {
        "colab": {
          "base_uri": "https://localhost:8080/"
        },
        "id": "NvqAOdK59xGL",
        "outputId": "335e6c9b-2e02-4d64-8e79-7ddb3452b43e"
      },
      "execution_count": null,
      "outputs": [
        {
          "output_type": "stream",
          "name": "stdout",
          "text": [
            "[ 1  2  3  4  5  6  7  8  9 10 11 12]\n",
            "12\n"
          ]
        }
      ]
    },
    {
      "cell_type": "markdown",
      "source": [
        "Iterating through numpy arrays"
      ],
      "metadata": {
        "id": "cS2NyRxj94Im"
      }
    },
    {
      "cell_type": "code",
      "source": [
        "npp12 = np.array([1,2,3,4,5,6,7,8,9,10,11,12])\n",
        "npp13 = np.array([[1,2,3,4,5,6],[7,8,9,10,11,12]])\n",
        "npp14 = npp12.reshape(2,3,2)"
      ],
      "metadata": {
        "id": "2YGA82YM-B6E"
      },
      "execution_count": null,
      "outputs": []
    },
    {
      "cell_type": "markdown",
      "source": [
        "iterating through conventional method"
      ],
      "metadata": {
        "id": "j40sPbfz_XGj"
      }
    },
    {
      "cell_type": "code",
      "source": [
        "for x in npp12:\n",
        "  print(x)"
      ],
      "metadata": {
        "colab": {
          "base_uri": "https://localhost:8080/"
        },
        "id": "B-WPa9Uy_Z5w",
        "outputId": "1c83ebd7-40e5-4e04-dbe9-cbf0ed7f9b23"
      },
      "execution_count": null,
      "outputs": [
        {
          "output_type": "stream",
          "name": "stdout",
          "text": [
            "1\n",
            "2\n",
            "3\n",
            "4\n",
            "5\n",
            "6\n",
            "7\n",
            "8\n",
            "9\n",
            "10\n",
            "11\n",
            "12\n"
          ]
        }
      ]
    },
    {
      "cell_type": "code",
      "source": [
        "for x in npp13:\n",
        "  for y in x:\n",
        "    print(y)"
      ],
      "metadata": {
        "colab": {
          "base_uri": "https://localhost:8080/"
        },
        "id": "VPl1Vmpk_duu",
        "outputId": "cc2cf2ec-a625-4cf0-c854-5dcff411cfdd"
      },
      "execution_count": null,
      "outputs": [
        {
          "output_type": "stream",
          "name": "stdout",
          "text": [
            "1\n",
            "2\n",
            "3\n",
            "4\n",
            "5\n",
            "6\n",
            "7\n",
            "8\n",
            "9\n",
            "10\n",
            "11\n",
            "12\n"
          ]
        }
      ]
    },
    {
      "cell_type": "code",
      "source": [
        "for x in npp14:\n",
        "  for y in x:\n",
        "    for z in y:\n",
        "      print(z)"
      ],
      "metadata": {
        "colab": {
          "base_uri": "https://localhost:8080/"
        },
        "id": "28dXbY5p_jDA",
        "outputId": "7a6103d8-8fc8-4ce8-f807-5544a1e10145"
      },
      "execution_count": null,
      "outputs": [
        {
          "output_type": "stream",
          "name": "stdout",
          "text": [
            "1\n",
            "2\n",
            "3\n",
            "4\n",
            "5\n",
            "6\n",
            "7\n",
            "8\n",
            "9\n",
            "10\n",
            "11\n",
            "12\n"
          ]
        }
      ]
    },
    {
      "cell_type": "markdown",
      "source": [
        "better way to do so use \"np.nditer\""
      ],
      "metadata": {
        "id": "hNSTzqf0_pUy"
      }
    },
    {
      "cell_type": "code",
      "source": [
        "for x in np.nditer(npp14):\n",
        "  print(x)"
      ],
      "metadata": {
        "colab": {
          "base_uri": "https://localhost:8080/"
        },
        "id": "Z4aEhA0d_qz0",
        "outputId": "d97afea3-da60-4d45-d5a2-cd13616abc9c"
      },
      "execution_count": null,
      "outputs": [
        {
          "output_type": "stream",
          "name": "stdout",
          "text": [
            "1\n",
            "2\n",
            "3\n",
            "4\n",
            "5\n",
            "6\n",
            "7\n",
            "8\n",
            "9\n",
            "10\n",
            "11\n",
            "12\n"
          ]
        }
      ]
    },
    {
      "cell_type": "markdown",
      "source": [
        "Sorting numpy arrays"
      ],
      "metadata": {
        "id": "y_QvenCrABeD"
      }
    },
    {
      "cell_type": "code",
      "source": [
        "npp15 = np.array([6,7,4,9,0,2,1])\n",
        "npp16 = np.sort(npp15)\n",
        "print(npp15)\n",
        "print(npp16)"
      ],
      "metadata": {
        "colab": {
          "base_uri": "https://localhost:8080/"
        },
        "id": "NVKetcgAADY_",
        "outputId": "fc8ab6fb-4ab8-4abe-ce78-d5abb68c3e31"
      },
      "execution_count": null,
      "outputs": [
        {
          "output_type": "stream",
          "name": "stdout",
          "text": [
            "[6 7 4 9 0 2 1]\n",
            "[0 1 2 4 6 7 9]\n"
          ]
        }
      ]
    },
    {
      "cell_type": "code",
      "source": [
        "npp17 = ([\"deep\",\"manav\",\"ashish\"])\n",
        "npp18 = np.sort(npp17)\n",
        "print(npp17)\n",
        "print(npp18)"
      ],
      "metadata": {
        "colab": {
          "base_uri": "https://localhost:8080/"
        },
        "id": "SWYq6UhEIQ0t",
        "outputId": "ebe34f90-0867-4332-8be3-252119ec1102"
      },
      "execution_count": null,
      "outputs": [
        {
          "output_type": "stream",
          "name": "stdout",
          "text": [
            "['deep', 'manav', 'ashish']\n",
            "['ashish' 'deep' 'manav']\n"
          ]
        }
      ]
    },
    {
      "cell_type": "markdown",
      "source": [
        "Searching in numpy array"
      ],
      "metadata": {
        "id": "UrpoiUFmId4D"
      }
    },
    {
      "cell_type": "code",
      "source": [
        "npp19 = np.array([1,2,3,4,5,3,7,8,9,10])\n",
        "x = np.where(npp19 == 3)\n",
        "print(npp19)\n",
        "print(x[0])"
      ],
      "metadata": {
        "colab": {
          "base_uri": "https://localhost:8080/"
        },
        "id": "ElasAaJ-IgCk",
        "outputId": "86595936-daea-4a68-a07b-b95e22baae21"
      },
      "execution_count": 3,
      "outputs": [
        {
          "output_type": "stream",
          "name": "stdout",
          "text": [
            "[ 1  2  3  4  5  3  7  8  9 10]\n",
            "[2 5]\n"
          ]
        }
      ]
    },
    {
      "cell_type": "code",
      "source": [
        "y = np.where(npp19 % 2 == 0)\n",
        "print(y[0])"
      ],
      "metadata": {
        "colab": {
          "base_uri": "https://localhost:8080/"
        },
        "id": "CwUj-mX1NuVz",
        "outputId": "9c277939-9be7-4315-e246-06eee3168e31"
      },
      "execution_count": 4,
      "outputs": [
        {
          "output_type": "stream",
          "name": "stdout",
          "text": [
            "[1 3 7 9]\n"
          ]
        }
      ]
    },
    {
      "cell_type": "markdown",
      "source": [
        "Filtering in numpy array"
      ],
      "metadata": {
        "id": "EKnVfs5WOPLI"
      }
    },
    {
      "cell_type": "code",
      "source": [
        "npp20 = np.array([1,2,3,4,5,6,7,8,9,10,11,12])\n",
        "x = [True,True,False,False,False,False,False,False,False,False,True,True]\n",
        "print(npp20)\n",
        "print(npp20[x])"
      ],
      "metadata": {
        "colab": {
          "base_uri": "https://localhost:8080/"
        },
        "id": "5Czz1OPSOSPz",
        "outputId": "e8e51c6c-a3d3-4134-ff7c-1f76cf578db2"
      },
      "execution_count": 5,
      "outputs": [
        {
          "output_type": "stream",
          "name": "stdout",
          "text": [
            "[ 1  2  3  4  5  6  7  8  9 10 11 12]\n",
            "[ 1  2 11 12]\n"
          ]
        }
      ]
    },
    {
      "cell_type": "code",
      "source": [
        "filtered = []\n",
        "for x in npp20:\n",
        "  if x%2 == 0:\n",
        "    filtered.append(True)\n",
        "  else:\n",
        "    filtered.append(False)"
      ],
      "metadata": {
        "id": "r2WOQS3t7dgf"
      },
      "execution_count": 7,
      "outputs": []
    },
    {
      "cell_type": "code",
      "source": [
        "print(npp20[filtered])"
      ],
      "metadata": {
        "colab": {
          "base_uri": "https://localhost:8080/"
        },
        "id": "_j5VfKRb7xGe",
        "outputId": "a43bf6ee-3cd3-4372-ebbf-6bb91b722abe"
      },
      "execution_count": 8,
      "outputs": [
        {
          "output_type": "stream",
          "name": "stdout",
          "text": [
            "[ 2  4  6  8 10 12]\n"
          ]
        }
      ]
    },
    {
      "cell_type": "code",
      "source": [
        "filtered = npp20%2==1\n",
        "print(npp20[filtered])"
      ],
      "metadata": {
        "colab": {
          "base_uri": "https://localhost:8080/"
        },
        "id": "v1vMEe9F72cD",
        "outputId": "d61e0a0c-c902-4449-d322-550b68ad90cd"
      },
      "execution_count": 9,
      "outputs": [
        {
          "output_type": "stream",
          "name": "stdout",
          "text": [
            "[ 1  3  5  7  9 11]\n"
          ]
        }
      ]
    }
  ]
}